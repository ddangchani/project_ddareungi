{
 "cells": [
  {
   "cell_type": "code",
   "execution_count": 5,
   "metadata": {},
   "outputs": [],
   "source": [
    "import numpy as np\n",
    "import pandas as pd\n",
    "import statsmodels.api as sm\n",
    "import statsmodels.formula.api as smf\n",
    "import matplotlib.pyplot as plt"
   ]
  },
  {
   "cell_type": "code",
   "execution_count": 6,
   "metadata": {},
   "outputs": [
    {
     "name": "stdout",
     "output_type": "stream",
     "text": [
      "   id  hour  temp  precip  windspeed  ...  visibility  ozone  pm10  pm2_5  count\n",
      "0   3    20  16.3     1.0        1.5  ...       576.0  0.027  76.0   33.0   49.0\n",
      "\n",
      "[1 rows x 11 columns]\n",
      "1328\n"
     ]
    }
   ],
   "source": [
    "# Data Load\n",
    "df_train = pd.read_csv('train.csv').dropna()\n",
    "df_train.head(1)\n",
    "df_train.columns = ['id', 'hour', 'temp', 'precip',\n",
    "       'windspeed', 'humidity', 'visibility',\n",
    "       'ozone', 'pm10', 'pm2_5', 'count']\n",
    "print(df_train.head(1))\n",
    "print(len(df_train))"
   ]
  },
  {
   "cell_type": "code",
   "execution_count": 7,
   "metadata": {},
   "outputs": [
    {
     "name": "stdout",
     "output_type": "stream",
     "text": [
      "929\n"
     ]
    }
   ],
   "source": [
    "# Model split\n",
    "from sklearn.model_selection import train_test_split\n",
    "\n",
    "X, y = df_train.iloc[:,1:-1], df_train.iloc[:,-1]\n",
    "X_train, X_val, y_train, y_val = train_test_split(X, y, test_size=0.3, random_state=37)\n",
    "print(len(X_train))"
   ]
  },
  {
   "cell_type": "code",
   "execution_count": 8,
   "metadata": {},
   "outputs": [],
   "source": [
    "# Dummy, const treatment\n",
    "X_train = pd.get_dummies(X_train, columns=['precip'], drop_first = True)\n",
    "X_train = sm.add_constant(X_train)\n",
    "X_val = pd.get_dummies(X_val, columns=['precip'], drop_first = True)\n",
    "X_val = sm.add_constant(X_val)"
   ]
  },
  {
   "cell_type": "code",
   "execution_count": 10,
   "metadata": {},
   "outputs": [],
   "source": [
    "# fit_regularized \n",
    "ols_lasso = sm.OLS(y_train, X_train).fit_regularized(method=\"elastic_net\", alpha = 0.1, L1_wt=1)\n",
    "ols_ridge = sm.OLS(y_train, X_train).fit_regularized(method=\"elastic_net\", alpha = 0.1, L1_wt=0)\n",
    "ols_elnet = sm.OLS(y_train, X_train).fit_regularized(method=\"elastic_net\", alpha = 0.1, L1_wt=0.5)"
   ]
  },
  {
   "cell_type": "code",
   "execution_count": 41,
   "metadata": {},
   "outputs": [
    {
     "data": {
      "text/plain": [
       "array([ True,  True,  True,  True,  True,  True,  True,  True,  True,\n",
       "        True])"
      ]
     },
     "execution_count": 41,
     "metadata": {},
     "output_type": "execute_result"
    }
   ],
   "source": [
    "ols_lasso.params.index == X_train.columns"
   ]
  },
  {
   "cell_type": "code",
   "execution_count": 45,
   "metadata": {},
   "outputs": [
    {
     "data": {
      "text/html": [
       "<div>\n",
       "<style scoped>\n",
       "    .dataframe tbody tr th:only-of-type {\n",
       "        vertical-align: middle;\n",
       "    }\n",
       "\n",
       "    .dataframe tbody tr th {\n",
       "        vertical-align: top;\n",
       "    }\n",
       "\n",
       "    .dataframe thead th {\n",
       "        text-align: right;\n",
       "    }\n",
       "</style>\n",
       "<table border=\"1\" class=\"dataframe\">\n",
       "  <thead>\n",
       "    <tr style=\"text-align: right;\">\n",
       "      <th></th>\n",
       "      <th>0.001</th>\n",
       "      <th>0.010</th>\n",
       "      <th>0.100</th>\n",
       "      <th>1.000</th>\n",
       "      <th>10.000</th>\n",
       "    </tr>\n",
       "  </thead>\n",
       "  <tbody>\n",
       "    <tr>\n",
       "      <th>const</th>\n",
       "      <td>-47.021</td>\n",
       "      <td>-19.137</td>\n",
       "      <td>-2.610</td>\n",
       "      <td>-0.172</td>\n",
       "      <td>0.031</td>\n",
       "    </tr>\n",
       "    <tr>\n",
       "      <th>hour</th>\n",
       "      <td>4.570</td>\n",
       "      <td>4.542</td>\n",
       "      <td>4.497</td>\n",
       "      <td>4.631</td>\n",
       "      <td>4.393</td>\n",
       "    </tr>\n",
       "    <tr>\n",
       "      <th>temp</th>\n",
       "      <td>5.831</td>\n",
       "      <td>5.658</td>\n",
       "      <td>5.558</td>\n",
       "      <td>5.548</td>\n",
       "      <td>4.641</td>\n",
       "    </tr>\n",
       "    <tr>\n",
       "      <th>windspeed</th>\n",
       "      <td>8.344</td>\n",
       "      <td>8.056</td>\n",
       "      <td>7.287</td>\n",
       "      <td>4.580</td>\n",
       "      <td>1.369</td>\n",
       "    </tr>\n",
       "    <tr>\n",
       "      <th>humidity</th>\n",
       "      <td>-0.242</td>\n",
       "      <td>-0.424</td>\n",
       "      <td>-0.561</td>\n",
       "      <td>-0.597</td>\n",
       "      <td>-0.591</td>\n",
       "    </tr>\n",
       "    <tr>\n",
       "      <th>visibility</th>\n",
       "      <td>0.008</td>\n",
       "      <td>0.002</td>\n",
       "      <td>0.000</td>\n",
       "      <td>0.002</td>\n",
       "      <td>0.013</td>\n",
       "    </tr>\n",
       "    <tr>\n",
       "      <th>ozone</th>\n",
       "      <td>52.863</td>\n",
       "      <td>6.231</td>\n",
       "      <td>0.684</td>\n",
       "      <td>0.095</td>\n",
       "      <td>0.020</td>\n",
       "    </tr>\n",
       "    <tr>\n",
       "      <th>pm10</th>\n",
       "      <td>-0.331</td>\n",
       "      <td>-0.368</td>\n",
       "      <td>-0.381</td>\n",
       "      <td>-0.356</td>\n",
       "      <td>-0.281</td>\n",
       "    </tr>\n",
       "    <tr>\n",
       "      <th>pm2_5</th>\n",
       "      <td>0.165</td>\n",
       "      <td>0.067</td>\n",
       "      <td>0.011</td>\n",
       "      <td>0.009</td>\n",
       "      <td>0.174</td>\n",
       "    </tr>\n",
       "    <tr>\n",
       "      <th>precip_1.0</th>\n",
       "      <td>-59.797</td>\n",
       "      <td>-42.783</td>\n",
       "      <td>-11.126</td>\n",
       "      <td>-1.313</td>\n",
       "      <td>-0.127</td>\n",
       "    </tr>\n",
       "  </tbody>\n",
       "</table>\n",
       "</div>"
      ],
      "text/plain": [
       "            0.001   0.010   0.100   1.000   10.000\n",
       "const      -47.021 -19.137  -2.610  -0.172   0.031\n",
       "hour         4.570   4.542   4.497   4.631   4.393\n",
       "temp         5.831   5.658   5.558   5.548   4.641\n",
       "windspeed    8.344   8.056   7.287   4.580   1.369\n",
       "humidity    -0.242  -0.424  -0.561  -0.597  -0.591\n",
       "visibility   0.008   0.002   0.000   0.002   0.013\n",
       "ozone       52.863   6.231   0.684   0.095   0.020\n",
       "pm10        -0.331  -0.368  -0.381  -0.356  -0.281\n",
       "pm2_5        0.165   0.067   0.011   0.009   0.174\n",
       "precip_1.0 -59.797 -42.783 -11.126  -1.313  -0.127"
      ]
     },
     "execution_count": 45,
     "metadata": {},
     "output_type": "execute_result"
    }
   ],
   "source": [
    "# changing alpha - ridge\n",
    "alpha = np.logspace(-3,1,5) # range of alpha(exponential)\n",
    "data = []\n",
    "for i, a in enumerate(alpha): \n",
    "    ridge = sm.OLS(y_train, X_train).fit_regularized(method = 'elastic_net', L1_wt = 0, alpha = a)\n",
    "    data.append(ridge.params)\n",
    "df_ridge = pd.DataFrame(data, index = alpha).T.round(3)\n",
    "df_ridge.index = X_train.columns\n",
    "print(df_ridge)"
   ]
  },
  {
   "cell_type": "code",
   "execution_count": 46,
   "metadata": {},
   "outputs": [],
   "source": [
    "# For lasso and elnet\n",
    "alpha = np.logspace(-3,1,5) # range of alpha(exponential)\n",
    "data = []\n",
    "for i, a in enumerate(alpha): \n",
    "    lasso = sm.OLS(y_train, X_train).fit_regularized(method = 'elastic_net', L1_wt = 1, alpha = a)\n",
    "    data.append(lasso.params)\n",
    "df_lasso = pd.DataFrame(data, index = alpha).T.round(3)\n",
    "df_lasso.index = X_train.columns\n",
    "\n",
    "alpha = np.logspace(-3,1,5) # range of alpha(exponential)\n",
    "data = []\n",
    "for i, a in enumerate(alpha): \n",
    "    elnet = sm.OLS(y_train, X_train).fit_regularized(method = 'elastic_net', L1_wt = 0.5, alpha = a)\n",
    "    data.append(elnet.params)\n",
    "df_elnet = pd.DataFrame(data, index = alpha).T.round(3)\n",
    "df_elnet.index = X_train.columns"
   ]
  },
  {
   "cell_type": "code",
   "execution_count": 52,
   "metadata": {},
   "outputs": [
    {
     "data": {
      "image/png": "[encoded data removed]",
      "text/plain": [
       "<Figure size 720x1440 with 3 Axes>"
      ]
     },
     "metadata": {
      "needs_background": "light"
     },
     "output_type": "display_data"
    }
   ],
   "source": [
    "# Plot : coef vs. alpha\n",
    "fig = plt.figure(figsize = (10,20))\n",
    "ax1 = plt.subplot(3,1,1)\n",
    "plt.semilogx(df_ridge.T) # ridge\n",
    "plt.xticks(np.logspace(-3,1,5), labels=np.log10(alpha))\n",
    "plt.title('Ridge')\n",
    "\n",
    "ax2 = plt.subplot(3,1,2)\n",
    "plt.semilogx(df_lasso.T) # lasso\n",
    "plt.xticks(np.logspace(-3,1,5), labels=np.log10(alpha))\n",
    "plt.title('Lasso')\n",
    "\n",
    "ax3 = plt.subplot(3,1,3)\n",
    "plt.semilogx(df_elnet.T) # elnet\n",
    "plt.xticks(np.logspace(-3,1,5), labels=np.log10(alpha))\n",
    "plt.title('Elnet')\n",
    "plt.savefig('plots/coef_vs_alpha.png', transparent = False, facecolor = 'white')"
   ]
  },
  {
   "cell_type": "code",
   "execution_count": 72,
   "metadata": {},
   "outputs": [
    {
     "data": {
      "text/html": [
       "<div>\n",
       "<style scoped>\n",
       "    .dataframe tbody tr th:only-of-type {\n",
       "        vertical-align: middle;\n",
       "    }\n",
       "\n",
       "    .dataframe tbody tr th {\n",
       "        vertical-align: top;\n",
       "    }\n",
       "\n",
       "    .dataframe thead th {\n",
       "        text-align: right;\n",
       "    }\n",
       "</style>\n",
       "<table border=\"1\" class=\"dataframe\">\n",
       "  <thead>\n",
       "    <tr style=\"text-align: right;\">\n",
       "      <th></th>\n",
       "      <th>0.001</th>\n",
       "      <th>0.010</th>\n",
       "      <th>0.100</th>\n",
       "      <th>1.000</th>\n",
       "      <th>10.000</th>\n",
       "    </tr>\n",
       "  </thead>\n",
       "  <tbody>\n",
       "    <tr>\n",
       "      <th>1.0</th>\n",
       "      <td>53.806</td>\n",
       "      <td>53.830</td>\n",
       "      <td>54.141</td>\n",
       "      <td>53.682</td>\n",
       "      <td>53.168</td>\n",
       "    </tr>\n",
       "    <tr>\n",
       "      <th>0.5</th>\n",
       "      <td>54.171</td>\n",
       "      <td>54.114</td>\n",
       "      <td>54.388</td>\n",
       "      <td>53.496</td>\n",
       "      <td>53.287</td>\n",
       "    </tr>\n",
       "    <tr>\n",
       "      <th>0.0</th>\n",
       "      <td>53.244</td>\n",
       "      <td>53.110</td>\n",
       "      <td>53.496</td>\n",
       "      <td>53.349</td>\n",
       "      <td>53.480</td>\n",
       "    </tr>\n",
       "  </tbody>\n",
       "</table>\n",
       "</div>"
      ],
      "text/plain": [
       "     0.001   0.010   0.100   1.000   10.000\n",
       "1.0  53.806  53.830  54.141  53.682  53.168\n",
       "0.5  54.171  54.114  54.388  53.496  53.287\n",
       "0.0  53.244  53.110  53.496  53.349  53.480"
      ]
     },
     "execution_count": 72,
     "metadata": {},
     "output_type": "execute_result"
    }
   ],
   "source": [
    "# Tune alpha with validation\n",
    "from sklearn.metrics import mean_squared_error\n",
    "def tune_alpha(y, X, y_val, X_val, wt_list):\n",
    "    alpha = np.logspace(-3,1,5) # 10^-3 to 10^1 by sqrt(10)\n",
    "    data = []\n",
    "    for wt in wt_list:\n",
    "        data_wt = []\n",
    "        for i, a in enumerate(alpha):\n",
    "            model = sm.OLS(y, X).fit_regularized(method='elastic_net', alpha = a, L1_wt=wt)\n",
    "            pred = model.predict(X_val)\n",
    "            rmse = np.sqrt(mean_squared_error(y_val, pred)).round(3)\n",
    "            data_wt.append(rmse)\n",
    "        data.append(data_wt)\n",
    "    df = pd.DataFrame(data, index=wt_list)\n",
    "    df.columns = alpha\n",
    "    return df\n",
    "\n",
    "tune_alpha(y_train, X_train, y_val, X_val, wt_list=[1, 0.5, 0]) # lasso to ridge"
   ]
  },
  {
   "cell_type": "code",
   "execution_count": 93,
   "metadata": {},
   "outputs": [
    {
     "data": {
      "text/html": [
       "<div>\n",
       "<style scoped>\n",
       "    .dataframe tbody tr th:only-of-type {\n",
       "        vertical-align: middle;\n",
       "    }\n",
       "\n",
       "    .dataframe tbody tr th {\n",
       "        vertical-align: top;\n",
       "    }\n",
       "\n",
       "    .dataframe thead th {\n",
       "        text-align: right;\n",
       "    }\n",
       "</style>\n",
       "<table border=\"1\" class=\"dataframe\">\n",
       "  <thead>\n",
       "    <tr style=\"text-align: right;\">\n",
       "      <th></th>\n",
       "      <th>1.0</th>\n",
       "      <th>0.5</th>\n",
       "      <th>0.0</th>\n",
       "    </tr>\n",
       "  </thead>\n",
       "  <tbody>\n",
       "    <tr>\n",
       "      <th>0.000100</th>\n",
       "      <td>53.804</td>\n",
       "      <td>53.910</td>\n",
       "      <td>53.237</td>\n",
       "    </tr>\n",
       "    <tr>\n",
       "      <th>0.000316</th>\n",
       "      <td>53.805</td>\n",
       "      <td>54.044</td>\n",
       "      <td>53.251</td>\n",
       "    </tr>\n",
       "    <tr>\n",
       "      <th>0.001000</th>\n",
       "      <td>53.806</td>\n",
       "      <td>54.171</td>\n",
       "      <td>53.244</td>\n",
       "    </tr>\n",
       "    <tr>\n",
       "      <th>0.003162</th>\n",
       "      <td>53.811</td>\n",
       "      <td>54.185</td>\n",
       "      <td>53.169</td>\n",
       "    </tr>\n",
       "    <tr>\n",
       "      <th>0.010000</th>\n",
       "      <td>53.830</td>\n",
       "      <td>54.114</td>\n",
       "      <td>53.110</td>\n",
       "    </tr>\n",
       "    <tr>\n",
       "      <th>0.031623</th>\n",
       "      <td>53.951</td>\n",
       "      <td>54.211</td>\n",
       "      <td>53.253</td>\n",
       "    </tr>\n",
       "    <tr>\n",
       "      <th>0.100000</th>\n",
       "      <td>54.141</td>\n",
       "      <td>54.388</td>\n",
       "      <td>53.496</td>\n",
       "    </tr>\n",
       "    <tr>\n",
       "      <th>0.316228</th>\n",
       "      <td>53.583</td>\n",
       "      <td>53.858</td>\n",
       "      <td>53.533</td>\n",
       "    </tr>\n",
       "    <tr>\n",
       "      <th>1.000000</th>\n",
       "      <td>53.682</td>\n",
       "      <td>53.496</td>\n",
       "      <td>53.349</td>\n",
       "    </tr>\n",
       "    <tr>\n",
       "      <th>3.162278</th>\n",
       "      <td>54.051</td>\n",
       "      <td>53.175</td>\n",
       "      <td>53.184</td>\n",
       "    </tr>\n",
       "  </tbody>\n",
       "</table>\n",
       "</div>"
      ],
      "text/plain": [
       "             1.0     0.5     0.0\n",
       "0.000100  53.804  53.910  53.237\n",
       "0.000316  53.805  54.044  53.251\n",
       "0.001000  53.806  54.171  53.244\n",
       "0.003162  53.811  54.185  53.169\n",
       "0.010000  53.830  54.114  53.110\n",
       "0.031623  53.951  54.211  53.253\n",
       "0.100000  54.141  54.388  53.496\n",
       "0.316228  53.583  53.858  53.533\n",
       "1.000000  53.682  53.496  53.349\n",
       "3.162278  54.051  53.175  53.184"
      ]
     },
     "execution_count": 93,
     "metadata": {},
     "output_type": "execute_result"
    }
   ],
   "source": [
    "# Tune alpha with validation(fixed L1_wt with alpha_ls)\n",
    "from sklearn.metrics import mean_squared_error\n",
    "def tune_alpha(y, X, y_val, X_val, alpha_ls):\n",
    "    wt_list = [1, 0.5, 0]\n",
    "    data = []\n",
    "    for wt in wt_list:\n",
    "        data_wt = []\n",
    "        for i, a in enumerate(alpha_ls):\n",
    "            model = sm.OLS(y, X).fit_regularized(method='elastic_net', alpha = a, L1_wt=wt)\n",
    "            pred = model.predict(X_val)\n",
    "            rmse = np.sqrt(mean_squared_error(y_val, pred)).round(3)\n",
    "            data_wt.append(rmse)\n",
    "        data.append(data_wt)\n",
    "    df = pd.DataFrame(data, index=wt_list).T\n",
    "    df.index = alpha_ls\n",
    "    return df"
   ]
  },
  {
   "cell_type": "code",
   "execution_count": 102,
   "metadata": {},
   "outputs": [
    {
     "data": {
      "image/png": "[encoded data removed]",
      "text/plain": [
       "<Figure size 720x720 with 1 Axes>"
      ]
     },
     "metadata": {
      "needs_background": "light"
     },
     "output_type": "display_data"
    }
   ],
   "source": [
    "# Tune alpha plot\n",
    "alpha_ls = np.power(10,(np.arange(-4, 2, 0.5))) # 10 grid of alpha\n",
    "df = tune_alpha(y_train, X_train, y_val, X_val, alpha_ls=alpha_ls)\n",
    "\n",
    "fig = plt.figure(figsize=(10,10))\n",
    "plt.semilogx(df, label=['Lasso','Elastic-Net','Ridge'])\n",
    "plt.legend(loc='upper right', title = 'Model')\n",
    "plt.xticks(alpha_ls, labels=np.log10(alpha_ls))\n",
    "plt.ylabel('RMSE')\n",
    "plt.xlabel('alpha(10^x)')\n",
    "plt.title('RMSE vs. alpha for 3 model')\n",
    "plt.savefig('plots/rmse_vs_alpha.png', facecolor='white', transparent=False)"
   ]
  },
  {
   "cell_type": "code",
   "execution_count": 126,
   "metadata": {},
   "outputs": [
    {
     "name": "stdout",
     "output_type": "stream",
     "text": [
      "53.242\n"
     ]
    }
   ],
   "source": [
    "# LARS\n",
    "from sklearn import linear_model\n",
    "reg = linear_model.Lars(n_nonzero_coefs=5, fit_intercept=True, normalize=False)\n",
    "reg.fit(X_train, y_train)\n",
    "pred_val = reg.predict(X_val)\n",
    "rmse = np.sqrt(mean_squared_error(y_val, pred_val)).round(3)\n",
    "print(rmse)"
   ]
  },
  {
   "cell_type": "code",
   "execution_count": 131,
   "metadata": {},
   "outputs": [
    {
     "data": {
      "text/html": [
       "<div>\n",
       "<style scoped>\n",
       "    .dataframe tbody tr th:only-of-type {\n",
       "        vertical-align: middle;\n",
       "    }\n",
       "\n",
       "    .dataframe tbody tr th {\n",
       "        vertical-align: top;\n",
       "    }\n",
       "\n",
       "    .dataframe thead th {\n",
       "        text-align: right;\n",
       "    }\n",
       "</style>\n",
       "<table border=\"1\" class=\"dataframe\">\n",
       "  <thead>\n",
       "    <tr style=\"text-align: right;\">\n",
       "      <th></th>\n",
       "      <th>0</th>\n",
       "      <th>1</th>\n",
       "      <th>2</th>\n",
       "      <th>3</th>\n",
       "      <th>4</th>\n",
       "      <th>5</th>\n",
       "    </tr>\n",
       "  </thead>\n",
       "  <tbody>\n",
       "    <tr>\n",
       "      <th>const</th>\n",
       "      <td>0.0</td>\n",
       "      <td>0.000</td>\n",
       "      <td>0.000</td>\n",
       "      <td>0.000</td>\n",
       "      <td>0.000</td>\n",
       "      <td>0.000</td>\n",
       "    </tr>\n",
       "    <tr>\n",
       "      <th>hour</th>\n",
       "      <td>0.0</td>\n",
       "      <td>0.000</td>\n",
       "      <td>0.000</td>\n",
       "      <td>1.771</td>\n",
       "      <td>2.639</td>\n",
       "      <td>4.904</td>\n",
       "    </tr>\n",
       "    <tr>\n",
       "      <th>temp</th>\n",
       "      <td>0.0</td>\n",
       "      <td>0.000</td>\n",
       "      <td>0.000</td>\n",
       "      <td>0.000</td>\n",
       "      <td>0.000</td>\n",
       "      <td>5.799</td>\n",
       "    </tr>\n",
       "    <tr>\n",
       "      <th>windspeed</th>\n",
       "      <td>0.0</td>\n",
       "      <td>0.000</td>\n",
       "      <td>0.000</td>\n",
       "      <td>0.000</td>\n",
       "      <td>0.000</td>\n",
       "      <td>0.000</td>\n",
       "    </tr>\n",
       "    <tr>\n",
       "      <th>humidity</th>\n",
       "      <td>0.0</td>\n",
       "      <td>0.000</td>\n",
       "      <td>-0.579</td>\n",
       "      <td>-0.694</td>\n",
       "      <td>-0.834</td>\n",
       "      <td>-0.516</td>\n",
       "    </tr>\n",
       "    <tr>\n",
       "      <th>visibility</th>\n",
       "      <td>0.0</td>\n",
       "      <td>0.045</td>\n",
       "      <td>0.034</td>\n",
       "      <td>0.028</td>\n",
       "      <td>0.021</td>\n",
       "      <td>0.008</td>\n",
       "    </tr>\n",
       "    <tr>\n",
       "      <th>ozone</th>\n",
       "      <td>0.0</td>\n",
       "      <td>0.000</td>\n",
       "      <td>0.000</td>\n",
       "      <td>0.000</td>\n",
       "      <td>0.000</td>\n",
       "      <td>0.000</td>\n",
       "    </tr>\n",
       "    <tr>\n",
       "      <th>pm10</th>\n",
       "      <td>0.0</td>\n",
       "      <td>0.000</td>\n",
       "      <td>0.000</td>\n",
       "      <td>0.000</td>\n",
       "      <td>-0.095</td>\n",
       "      <td>-0.270</td>\n",
       "    </tr>\n",
       "    <tr>\n",
       "      <th>pm2_5</th>\n",
       "      <td>0.0</td>\n",
       "      <td>0.000</td>\n",
       "      <td>0.000</td>\n",
       "      <td>0.000</td>\n",
       "      <td>0.000</td>\n",
       "      <td>0.000</td>\n",
       "    </tr>\n",
       "    <tr>\n",
       "      <th>precip_1.0</th>\n",
       "      <td>0.0</td>\n",
       "      <td>0.000</td>\n",
       "      <td>0.000</td>\n",
       "      <td>0.000</td>\n",
       "      <td>0.000</td>\n",
       "      <td>0.000</td>\n",
       "    </tr>\n",
       "  </tbody>\n",
       "</table>\n",
       "</div>"
      ],
      "text/plain": [
       "              0      1      2      3      4      5\n",
       "const       0.0  0.000  0.000  0.000  0.000  0.000\n",
       "hour        0.0  0.000  0.000  1.771  2.639  4.904\n",
       "temp        0.0  0.000  0.000  0.000  0.000  5.799\n",
       "windspeed   0.0  0.000  0.000  0.000  0.000  0.000\n",
       "humidity    0.0  0.000 -0.579 -0.694 -0.834 -0.516\n",
       "visibility  0.0  0.045  0.034  0.028  0.021  0.008\n",
       "ozone       0.0  0.000  0.000  0.000  0.000  0.000\n",
       "pm10        0.0  0.000  0.000  0.000 -0.095 -0.270\n",
       "pm2_5       0.0  0.000  0.000  0.000  0.000  0.000\n",
       "precip_1.0  0.0  0.000  0.000  0.000  0.000  0.000"
      ]
     },
     "execution_count": 131,
     "metadata": {},
     "output_type": "execute_result"
    }
   ],
   "source": [
    "# Checking path of Lars Algorithm\n",
    "pd.DataFrame(reg.coef_path_, index = X_train.columns).round(3)"
   ]
  }
 ],
 "metadata": {
  "interpreter": {
   "hash": "057b2dfdcbeb6152fe7a6de916733e2aadd6aefdf07a18e5e9a0b06119769157"
  },
  "kernelspec": {
   "display_name": "Python 3.9.7 ('atf')",
   "language": "python",
   "name": "python3"
  },
  "language_info": {
   "codemirror_mode": {
    "name": "ipython",
    "version": 3
   },
   "file_extension": ".py",
   "mimetype": "text/x-python",
   "name": "python",
   "nbconvert_exporter": "python",
   "pygments_lexer": "ipython3",
   "version": "3.9.7"
  },
  "orig_nbformat": 4
 },
 "nbformat": 4,
 "nbformat_minor": 2
}
